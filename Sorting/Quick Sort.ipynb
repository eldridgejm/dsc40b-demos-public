{
 "cells": [
  {
   "cell_type": "markdown",
   "metadata": {},
   "source": [
    "# DSC 40B: Quick Select & Quick Sort\n",
    "\n",
    "### By: Daniel Lee & Udaikaran Singh"
   ]
  },
  {
   "cell_type": "code",
   "execution_count": 1,
   "metadata": {},
   "outputs": [],
   "source": [
    "#imports\n",
    "import ipywidgets as widgets\n",
    "import numpy as np\n",
    "import time\n",
    "import matplotlib.pyplot as plt\n",
    "import random\n",
    "from SortHelper import DisplayResults"
   ]
  },
  {
   "cell_type": "markdown",
   "metadata": {},
   "source": [
    "## Quick Select Code"
   ]
  },
  {
   "cell_type": "code",
   "execution_count": 2,
   "metadata": {},
   "outputs": [],
   "source": [
    "def quickselect(l, k, pivot_fn):\n",
    "    if len(l) == 1:\n",
    "        assert k == 0\n",
    "        return l[0]\n",
    "\n",
    "    pivot = pivot_fn(l)\n",
    "\n",
    "    lows = [el for el in l if el < pivot]\n",
    "    highs = [el for el in l if el > pivot]\n",
    "    pivots = [el for el in l if el == pivot]\n",
    "\n",
    "    if k < len(lows):\n",
    "        return quickselect(lows, k, pivot_fn)\n",
    "    elif k < len(lows) + len(pivots):\n",
    "        # We found our median\n",
    "        return pivots[0]\n",
    "    else:\n",
    "        #Note: we changed our k value, because we are ignoring the values below our pivot\n",
    "        return quickselect(highs, k - len(lows) - len(pivots), pivot_fn)"
   ]
  },
  {
   "cell_type": "code",
   "execution_count": 3,
   "metadata": {},
   "outputs": [],
   "source": [
    "def quickselect_median(l, pivot_fn=random.choice):\n",
    "    if len(l) % 2 == 1:\n",
    "        return quickselect(l, len(l) / 2, pivot_fn)\n",
    "    else:\n",
    "        return 0.5 * (quickselect(l, len(l) / 2 - 1, pivot_fn) +\n",
    "                      quickselect(l, len(l) / 2, pivot_fn))"
   ]
  },
  {
   "cell_type": "code",
   "execution_count": 4,
   "metadata": {},
   "outputs": [
    {
     "data": {
      "text/plain": [
       "3"
      ]
     },
     "execution_count": 4,
     "metadata": {},
     "output_type": "execute_result"
    }
   ],
   "source": [
    "a = [1,3,3,4,5]\n",
    "quickselect_median(a)"
   ]
  },
  {
   "cell_type": "markdown",
   "metadata": {},
   "source": [
    "## Quick Sort Code"
   ]
  },
  {
   "cell_type": "code",
   "execution_count": 5,
   "metadata": {},
   "outputs": [],
   "source": [
    "def partition(array , low , high):\n",
    "    i = low - 1\n",
    "    pivot = array[high]\n",
    "    \n",
    "    for j in range( low , high):\n",
    "        \n",
    "        if array[j] <= pivot:\n",
    "            \n",
    "            i += 1\n",
    "            array[i],array[j] = array[j],array[i] # Swapping \n",
    "    \n",
    "    array[i+1],array[high] = array[high],array[i+1] \n",
    "    return(i+1)\n",
    "\n",
    "def QuickSort(array,low,high, pivot_function = random.randint):\n",
    "    if low < high:\n",
    "        random_value = pivot_function(low,high)\n",
    "        \n",
    "        array[random_value] , array[high] = array[high], array[random_value] \n",
    "        \n",
    "        mid = partition(array,low,high)\n",
    "        QuickSort(array,low,mid-1)\n",
    "        QuickSort(array,mid+1,high)"
   ]
  },
  {
   "cell_type": "code",
   "execution_count": 6,
   "metadata": {},
   "outputs": [
    {
     "name": "stdout",
     "output_type": "stream",
     "text": [
      "[1, 2, 3, 4, 5, 6, 7, 8, 9]\n"
     ]
    }
   ],
   "source": [
    "a = [1, 3, 2, 5, 7, 6, 8, 9, 4]\n",
    "QuickSort(array= a, low= 0, high= len(a)-1)\n",
    "print(a)"
   ]
  },
  {
   "cell_type": "markdown",
   "metadata": {},
   "source": [
    "## Average Performance vs. Worst Case"
   ]
  },
  {
   "cell_type": "code",
   "execution_count": 7,
   "metadata": {},
   "outputs": [],
   "source": [
    "results = []\n",
    "for _ in range(1000):\n",
    "    randomList = np.random.randint(1000, size = 1000)\n",
    "    start = time.time()\n",
    "    QuickSort(randomList, 0, len(randomList)-1)\n",
    "    end = time.time()\n",
    "    results.append(end - start)\n",
    "    \n",
    "sameVal = [1] * 1000\n",
    "start = time.time()\n",
    "QuickSort(sameVal, 0, len(sameVal) - 1)\n",
    "end = time.time()\n",
    "worstCase = end - start"
   ]
  },
  {
   "cell_type": "markdown",
   "metadata": {},
   "source": [
    "### Runtime Distribution"
   ]
  },
  {
   "cell_type": "code",
   "execution_count": 8,
   "metadata": {},
   "outputs": [
    {
     "name": "stdout",
     "output_type": "stream",
     "text": [
      "Average Runtime:  0.00626203465461731\n"
     ]
    },
    {
     "data": {
      "image/png": "[encoded data removed]",
      "text/plain": [
       "<Figure size 432x288 with 1 Axes>"
      ]
     },
     "metadata": {},
     "output_type": "display_data"
    }
   ],
   "source": [
    "ax = plt.hist(results, bins = 100)\n",
    "plt.title(\"Runtime Histogram\")\n",
    "plt.xlabel(\"Runtime\")\n",
    "plt.ylabel(\"Count\")\n",
    "print(\"Average Runtime: \", np.mean(results))"
   ]
  },
  {
   "cell_type": "markdown",
   "metadata": {},
   "source": [
    "### Worst Case"
   ]
  },
  {
   "cell_type": "code",
   "execution_count": 9,
   "metadata": {},
   "outputs": [
    {
     "name": "stdout",
     "output_type": "stream",
     "text": [
      "Average Runtime:  0.00626203465461731\n",
      "Worst Case Runtime:  0.10414409637451172\n",
      "This is 16x worse.\n"
     ]
    },
    {
     "data": {
      "image/png": "[encoded data removed]",
      "text/plain": [
       "<Figure size 432x288 with 1 Axes>"
      ]
     },
     "metadata": {},
     "output_type": "display_data"
    }
   ],
   "source": [
    "ax = plt.hist(results, bins = 100)\n",
    "plt.title(\"Runtime Histogram vs. Worst Case\")\n",
    "plt.xlabel(\"Runtime\")\n",
    "plt.ylabel(\"Count\")\n",
    "plt.axvline(worstCase, color='k', linestyle='dashed', linewidth=1)\n",
    "print(\"Average Runtime: \", np.mean(results))\n",
    "print(\"Worst Case Runtime: \", worstCase)\n",
    "print(\"This is \" + str(int(worstCase/np.mean(results))) + \"x worse.\")"
   ]
  },
  {
   "cell_type": "markdown",
   "metadata": {},
   "source": [
    "## Performance on Different Inputs"
   ]
  },
  {
   "cell_type": "code",
   "execution_count": 10,
   "metadata": {},
   "outputs": [],
   "source": [
    "finResults = []\n",
    "results = []\n",
    "n = 100\n",
    "iterations = 5000\n",
    "\n",
    "for _ in range(iterations):\n",
    "    randomList = np.random.randint(1000, size = n)\n",
    "    start = time.time()\n",
    "    QuickSort(randomList, 0, len(randomList)-1)\n",
    "    end = time.time()\n",
    "    delta = end-start\n",
    "    results.append(delta)\n",
    "\n",
    "finResults.append(results)\n",
    "\n",
    "results = []\n",
    "for _ in range(iterations):\n",
    "    [1] * n\n",
    "    start = time.time()\n",
    "    QuickSort(randomList, 0, len(randomList)-1)\n",
    "    end = time.time()\n",
    "    delta = end-start\n",
    "    results.append(delta)\n",
    "\n",
    "finResults.append(results)\n",
    "\n",
    "results = []\n",
    "for _ in range(iterations):\n",
    "    lst = list(range(n))\n",
    "    start = time.time()\n",
    "    QuickSort(lst, 0, len(lst)-1)\n",
    "    end = time.time()\n",
    "    delta = end-start\n",
    "    results.append(delta)\n",
    "\n",
    "finResults.append(results)\n",
    "\n",
    "results = []\n",
    "half = int((n/2))\n",
    "for _ in range(iterations):\n",
    "    lst = list(range(half)) + np.random.randint(1000, size = half)\n",
    "    start = time.time()\n",
    "    QuickSort(lst, 0, len(lst)-1)\n",
    "    end = time.time()\n",
    "    delta = end-start\n",
    "    results.append(delta)\n",
    "\n",
    "finResults.append(results)"
   ]
  },
  {
   "cell_type": "code",
   "execution_count": 11,
   "metadata": {},
   "outputs": [
    {
     "data": {
      "text/plain": [
       "<Figure size 2560x1920 with 0 Axes>"
      ]
     },
     "execution_count": 11,
     "metadata": {},
     "output_type": "execute_result"
    },
    {
     "data": {
      "image/png": "[encoded data removed]",
      "text/plain": [
       "<Figure size 432x288 with 1 Axes>"
      ]
     },
     "metadata": {},
     "output_type": "display_data"
    },
    {
     "data": {
      "text/plain": [
       "<Figure size 2560x1920 with 0 Axes>"
      ]
     },
     "metadata": {},
     "output_type": "display_data"
    }
   ],
   "source": [
    "labels = ['Random Input', \"Constant Value\", \"Fully Sorted\", \"Half Sorted\"]\n",
    "ax = plt.hist(finResults, bins = 100, label = labels, stacked=True)\n",
    "plt.legend()\n",
    "plt.title(\"Runtime Histograms\")\n",
    "plt.xlabel(\"Runtime\")\n",
    "plt.ylabel(\"Count\")\n",
    "plt.figure(num=None, figsize=(8, 6), dpi=320, facecolor='w', edgecolor='k')"
   ]
  },
  {
   "cell_type": "markdown",
   "metadata": {},
   "source": [
    "## Partitioning Methods"
   ]
  },
  {
   "cell_type": "code",
   "execution_count": 12,
   "metadata": {},
   "outputs": [
    {
     "name": "stdout",
     "output_type": "stream",
     "text": [
      "Pick 2 Methods for Partitioning:\n"
     ]
    },
    {
     "data": {
      "application/vnd.jupyter.widget-view+json": {
       "model_id": "4f462b5f02ce4a338740bb13b99f0b2f",
       "version_major": 2,
       "version_minor": 0
      },
      "text/plain": [
       "Dropdown(description='First:', index=1, options=('Last Element', 'Random', 'Median of Three'), value='Random')"
      ]
     },
     "metadata": {},
     "output_type": "display_data"
    },
    {
     "data": {
      "application/vnd.jupyter.widget-view+json": {
       "model_id": "8f5f9beb72ee415aa4a95b1cc2a37ae4",
       "version_major": 2,
       "version_minor": 0
      },
      "text/plain": [
       "Dropdown(description='Second:', index=1, options=('Last Element', 'Random', 'Median of Three'), value='Random'…"
      ]
     },
     "metadata": {},
     "output_type": "display_data"
    },
    {
     "name": "stdout",
     "output_type": "stream",
     "text": [
      "Pick an Input Type:\n"
     ]
    },
    {
     "data": {
      "application/vnd.jupyter.widget-view+json": {
       "model_id": "e1de0c31d4b8402fb95e64b811244e19",
       "version_major": 2,
       "version_minor": 0
      },
      "text/plain": [
       "Dropdown(description='Third:', options=('Random', 'Sorted', 'First Half Sorted', 'Partially Sorted'), value='R…"
      ]
     },
     "metadata": {},
     "output_type": "display_data"
    },
    {
     "name": "stdout",
     "output_type": "stream",
     "text": [
      "And then Run the Next Cell\n"
     ]
    }
   ],
   "source": [
    "FirstMethod = widgets.Dropdown(\n",
    "    options=['Last Element', 'Random', \"Median of Three\"],\n",
    "    value='Random',\n",
    "    description='First:',\n",
    ")\n",
    "SecondMethod = widgets.Dropdown(\n",
    "    options=['Last Element', 'Random', \"Median of Three\"],\n",
    "    value='Random',\n",
    "    description='Second:',\n",
    ")\n",
    "Input_type = widgets.Dropdown(\n",
    "    options=['Random', 'Sorted','First Half Sorted', \"Partially Sorted\"],\n",
    "    value='Random',\n",
    "    description='Third:',\n",
    ")\n",
    "\n",
    "print(\"Pick 2 Methods for Partitioning:\")\n",
    "display(FirstMethod)\n",
    "display(SecondMethod)\n",
    "print(\"Pick an Input Type:\")\n",
    "display(Input_type)\n",
    "print(\"And then Run the Next Cell\")"
   ]
  },
  {
   "cell_type": "code",
   "execution_count": 13,
   "metadata": {},
   "outputs": [
    {
     "name": "stdout",
     "output_type": "stream",
     "text": [
      "Mean of Random Method:  0.0004673709869384766\n",
      "Mean of Random Method:  0.0004567394256591797\n"
     ]
    },
    {
     "data": {
      "image/png": "[encoded data removed]",
      "text/plain": [
       "<Figure size 432x288 with 1 Axes>"
      ]
     },
     "metadata": {},
     "output_type": "display_data"
    },
    {
     "data": {
      "text/plain": [
       "<Figure size 576x432 with 0 Axes>"
      ]
     },
     "metadata": {},
     "output_type": "display_data"
    }
   ],
   "source": [
    "ax, firstMean, secondMean = DisplayResults(FirstMethod.value, SecondMethod.value, Input_type.value)\n",
    "print(\"Mean of \" + FirstMethod.value +\" Method: \", firstMean)\n",
    "print(\"Mean of \" + SecondMethod.value + \" Method: \", secondMean)"
   ]
  },
  {
   "cell_type": "markdown",
   "metadata": {},
   "source": [
    "## Assessment Questions"
   ]
  },
  {
   "cell_type": "code",
   "execution_count": null,
   "metadata": {},
   "outputs": [],
   "source": []
  },
  {
   "cell_type": "code",
   "execution_count": null,
   "metadata": {},
   "outputs": [],
   "source": []
  }
 ],
 "metadata": {
  "kernelspec": {
   "display_name": "Python 3",
   "language": "python",
   "name": "python3"
  },
  "language_info": {
   "codemirror_mode": {
    "name": "ipython",
    "version": 3
   },
   "file_extension": ".py",
   "mimetype": "text/x-python",
   "name": "python",
   "nbconvert_exporter": "python",
   "pygments_lexer": "ipython3",
   "version": "3.6.5"
  }
 },
 "nbformat": 4,
 "nbformat_minor": 2
}
