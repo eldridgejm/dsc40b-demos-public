{
 "cells": [
  {
   "cell_type": "markdown",
   "metadata": {},
   "source": [
    "# DSC 40B: Quick Select & Quick Sort\n",
    "\n",
    "### By: Daniel Lee & Udaikaran Singh"
   ]
  },
  {
   "cell_type": "code",
   "execution_count": 1,
   "metadata": {},
   "outputs": [],
   "source": [
    "#imports\n",
    "import ipywidgets as widgets\n",
    "import numpy as np\n",
    "import time\n",
    "import matplotlib.pyplot as plt\n",
    "import random\n",
    "from SortHelper import DisplayResults"
   ]
  },
  {
   "cell_type": "markdown",
   "metadata": {},
   "source": [
    "## Quick Select Code"
   ]
  },
  {
   "cell_type": "markdown",
   "metadata": {},
   "source": [
    "Quick Select is a simple, but interesting algorithm that allows us to find the k-th smallest value within a list (assuming k <= len(list)).\n",
    "\n",
    "It is grouped in with Quick Sort, because it relies on a similar underlying idea, especially the idea of a partition.\n",
    "\n",
    "The basic pseudo-code of the Quick-Select is:\n",
    "    1. Pick a pivot (example: pick the first element of the list)\n",
    "    2. If a value is greater than the pivot value, move it to the right of the pivot.\n",
    "        - Else: move it to the left of the pivot.\n",
    "    3. If there are more than k elements left of the pivot, then the k-th smallest element is left of the pivot.\n",
    "        - Else: we know that the k-th smallest element is in the right of the pivot.\n",
    "    4. With this new knowledge, we can ignore all the values to either the left or right of the partition and repeat the algorithm on the other side.\n",
    "\n",
    "Trace through the code below to check your understanding"
   ]
  },
  {
   "cell_type": "code",
   "execution_count": 2,
   "metadata": {},
   "outputs": [],
   "source": [
    "def quickselect(l, k, pivot_fn):\n",
    "    if len(l) == 1:\n",
    "        assert k == 0\n",
    "        return l[0]\n",
    "\n",
    "    pivot = pivot_fn(l)\n",
    "\n",
    "    lows = [el for el in l if el < pivot]\n",
    "    highs = [el for el in l if el > pivot]\n",
    "    pivots = [el for el in l if el == pivot]\n",
    "\n",
    "    if k < len(lows):\n",
    "        return quickselect(lows, k, pivot_fn)\n",
    "    elif k < len(lows) + len(pivots):\n",
    "        # We found our k-th smallest element\n",
    "        return pivots[0]\n",
    "    else:\n",
    "        #Note: we changed our k value, because we are ignoring the values below our pivot\n",
    "        return quickselect(highs, k - len(lows) - len(pivots), pivot_fn)"
   ]
  },
  {
   "cell_type": "markdown",
   "metadata": {},
   "source": [
    "Though we can find any k-th smallest element, quick select can very easily be applied to finding the median of a list."
   ]
  },
  {
   "cell_type": "code",
   "execution_count": 3,
   "metadata": {},
   "outputs": [],
   "source": [
    "def quickselect_median(l, pivot_fn=random.choice):\n",
    "    if len(l) % 2 == 1:\n",
    "        return quickselect(l, len(l) / 2, pivot_fn)\n",
    "    else:\n",
    "        return 0.5 * (quickselect(l, len(l) / 2 - 1, pivot_fn) +\n",
    "                      quickselect(l, len(l) / 2, pivot_fn))"
   ]
  },
  {
   "cell_type": "code",
   "execution_count": 4,
   "metadata": {},
   "outputs": [
    {
     "data": {
      "text/plain": [
       "3"
      ]
     },
     "execution_count": 4,
     "metadata": {},
     "output_type": "execute_result"
    }
   ],
   "source": [
    "a = [1,3,3,4,5]\n",
    "quickselect_median(a)"
   ]
  },
  {
   "cell_type": "markdown",
   "metadata": {},
   "source": [
    "## Quick Sort Code"
   ]
  },
  {
   "cell_type": "markdown",
   "metadata": {},
   "source": [
    "![quick Sort Animation](https://upload.wikimedia.org/wikipedia/commons/9/9c/Quicksort-example.gif)\n",
    "\n",
    "Quick Sort performs similarly to Quick Select in that you pick a partition and then move values greater than the partition to the right, and values lower to the partition to the left. Then, we recursively apply the same operation to the left and right of the pivot.\n",
    "\n",
    "Trace through the code below to confirm this."
   ]
  },
  {
   "cell_type": "code",
   "execution_count": 5,
   "metadata": {},
   "outputs": [],
   "source": [
    "def partition(array , low , high):\n",
    "    i = low - 1\n",
    "    pivot = array[high]\n",
    "    \n",
    "    for j in range( low , high):\n",
    "        \n",
    "        if array[j] <= pivot:\n",
    "            \n",
    "            i += 1\n",
    "            array[i],array[j] = array[j],array[i] # Swapping \n",
    "    \n",
    "    array[i+1],array[high] = array[high],array[i+1] \n",
    "    return(i+1)\n",
    "\n",
    "def QuickSort(array,low,high, pivot_function = random.randint):\n",
    "    if low < high:\n",
    "        pivot = pivot_function(low,high)\n",
    "        \n",
    "        array[pivot] , array[high] = array[high], array[pivot] \n",
    "        \n",
    "        mid = partition(array,low,high)\n",
    "        QuickSort(array,low,mid-1)\n",
    "        QuickSort(array,mid+1,high)"
   ]
  },
  {
   "cell_type": "code",
   "execution_count": 6,
   "metadata": {},
   "outputs": [
    {
     "name": "stdout",
     "output_type": "stream",
     "text": [
      "[1, 2, 3, 4, 5, 6, 7, 8, 9]\n"
     ]
    }
   ],
   "source": [
    "a = [1, 3, 2, 5, 7, 6, 8, 9, 4]\n",
    "QuickSort(array= a, low= 0, high= len(a)-1)\n",
    "print(a)"
   ]
  },
  {
   "cell_type": "markdown",
   "metadata": {},
   "source": [
    "## Average Performance vs. Worst Case"
   ]
  },
  {
   "cell_type": "markdown",
   "metadata": {},
   "source": [
    "We will now explore the average vs. the worst runtime of the quicksort algorithm using repeated simulations."
   ]
  },
  {
   "cell_type": "code",
   "execution_count": 7,
   "metadata": {},
   "outputs": [],
   "source": [
    "results = []\n",
    "for _ in range(1000):\n",
    "    randomList = np.random.randint(1000, size = 1000)\n",
    "    start = time.time()\n",
    "    QuickSort(randomList, 0, len(randomList)-1)\n",
    "    end = time.time()\n",
    "    results.append(end - start)\n",
    "    \n",
    "sameVal = [1] * 1000\n",
    "start = time.time()\n",
    "QuickSort(sameVal, 0, len(sameVal) - 1)\n",
    "end = time.time()\n",
    "worstCase = end - start"
   ]
  },
  {
   "cell_type": "markdown",
   "metadata": {},
   "source": [
    "### Runtime Distribution"
   ]
  },
  {
   "cell_type": "markdown",
   "metadata": {},
   "source": [
    "Below is a histogram of 1000 simulated runtimes of quicksort on completely random input lists."
   ]
  },
  {
   "cell_type": "code",
   "execution_count": 8,
   "metadata": {},
   "outputs": [
    {
     "name": "stdout",
     "output_type": "stream",
     "text": [
      "Average Runtime:  0.006191390752792359\n"
     ]
    },
    {
     "data": {
      "image/png": "[encoded data removed]",
      "text/plain": [
       "<Figure size 432x288 with 1 Axes>"
      ]
     },
     "metadata": {},
     "output_type": "display_data"
    }
   ],
   "source": [
    "ax = plt.hist(results, bins = 100)\n",
    "plt.title(\"Runtime Histogram\")\n",
    "plt.xlabel(\"Runtime\")\n",
    "plt.ylabel(\"Count\")\n",
    "print(\"Average Runtime: \", np.mean(results))"
   ]
  },
  {
   "cell_type": "markdown",
   "metadata": {},
   "source": [
    "### Worst Case"
   ]
  },
  {
   "cell_type": "markdown",
   "metadata": {},
   "source": [
    "Below is the same histogram as above but with an additional dashed vertical line corresponding to the worst-case simulated runtime of quicksort, in which we fed in a list of the same values. Our particular implementation of quicksort runs very slowly on such an input, since in each recursive call of the quicksort algorithm, all values are to one side of the pivot, resulting in an $O(n^2)$ runtime."
   ]
  },
  {
   "cell_type": "code",
   "execution_count": 9,
   "metadata": {},
   "outputs": [
    {
     "name": "stdout",
     "output_type": "stream",
     "text": [
      "Average Runtime:  0.006191390752792359\n",
      "Worst Case Runtime:  0.1009519100189209\n",
      "This is 16x worse.\n"
     ]
    },
    {
     "data": {
      "image/png": "[encoded data removed]",
      "text/plain": [
       "<Figure size 432x288 with 1 Axes>"
      ]
     },
     "metadata": {},
     "output_type": "display_data"
    }
   ],
   "source": [
    "ax = plt.hist(results, bins = 100)\n",
    "plt.title(\"Runtime Histogram vs. Worst Case\")\n",
    "plt.xlabel(\"Runtime\")\n",
    "plt.ylabel(\"Count\")\n",
    "plt.axvline(worstCase, color='k', linestyle='dashed', linewidth=1)\n",
    "print(\"Average Runtime: \", np.mean(results))\n",
    "print(\"Worst Case Runtime: \", worstCase)\n",
    "print(\"This is \" + str(int(worstCase/np.mean(results))) + \"x worse.\")"
   ]
  },
  {
   "cell_type": "markdown",
   "metadata": {},
   "source": [
    "## Performance on Different Inputs"
   ]
  },
  {
   "cell_type": "code",
   "execution_count": 10,
   "metadata": {},
   "outputs": [],
   "source": [
    "finResults = []\n",
    "results = []\n",
    "n = 100\n",
    "iterations = 5000\n",
    "\n",
    "for _ in range(iterations):\n",
    "    randomList = np.random.randint(1000, size = n)\n",
    "    start = time.time()\n",
    "    QuickSort(randomList, 0, len(randomList)-1)\n",
    "    end = time.time()\n",
    "    delta = end-start\n",
    "    results.append(delta)\n",
    "\n",
    "finResults.append(results)\n",
    "\n",
    "results = []\n",
    "for _ in range(iterations):\n",
    "    [1] * n\n",
    "    start = time.time()\n",
    "    QuickSort(randomList, 0, len(randomList)-1)\n",
    "    end = time.time()\n",
    "    delta = end-start\n",
    "    results.append(delta)\n",
    "\n",
    "finResults.append(results)\n",
    "\n",
    "results = []\n",
    "for _ in range(iterations):\n",
    "    lst = list(range(n))\n",
    "    start = time.time()\n",
    "    QuickSort(lst, 0, len(lst)-1)\n",
    "    end = time.time()\n",
    "    delta = end-start\n",
    "    results.append(delta)\n",
    "\n",
    "finResults.append(results)\n",
    "\n",
    "results = []\n",
    "half = int((n/2))\n",
    "for _ in range(iterations):\n",
    "    lst = list(range(half)) + np.random.randint(1000, size = half)\n",
    "    start = time.time()\n",
    "    QuickSort(lst, 0, len(lst)-1)\n",
    "    end = time.time()\n",
    "    delta = end-start\n",
    "    results.append(delta)\n",
    "\n",
    "finResults.append(results)"
   ]
  },
  {
   "cell_type": "markdown",
   "metadata": {},
   "source": [
    "In the histogram below, we can see the following rankings in runtimes with regards to input, from best to worst:\n",
    "1. Half Sorted\n",
    "2. Fully Sorted\n",
    "3. Random Input\n",
    "4. Constant Value\n",
    "\n",
    "Note that the differences in performance across inputs are not as pronounced as the previous histogram, since the input size is 100 instead of 1000 as before."
   ]
  },
  {
   "cell_type": "code",
   "execution_count": 11,
   "metadata": {},
   "outputs": [
    {
     "data": {
      "text/plain": [
       "<Figure size 2560x1920 with 0 Axes>"
      ]
     },
     "execution_count": 11,
     "metadata": {},
     "output_type": "execute_result"
    },
    {
     "data": {
      "image/png": "[encoded data removed]",
      "text/plain": [
       "<Figure size 432x288 with 1 Axes>"
      ]
     },
     "metadata": {},
     "output_type": "display_data"
    },
    {
     "data": {
      "text/plain": [
       "<Figure size 2560x1920 with 0 Axes>"
      ]
     },
     "metadata": {},
     "output_type": "display_data"
    }
   ],
   "source": [
    "labels = ['Random Input', \"Constant Value\", \"Fully Sorted\", \"Half Sorted\"]\n",
    "ax = plt.hist(finResults, bins = 100, label = labels, stacked=True)\n",
    "plt.legend()\n",
    "plt.title(\"Runtime Histograms\")\n",
    "plt.xlabel(\"Runtime\")\n",
    "plt.ylabel(\"Count\")\n",
    "plt.figure(num=None, figsize=(8, 6), dpi=320, facecolor='w', edgecolor='k')"
   ]
  },
  {
   "cell_type": "markdown",
   "metadata": {},
   "source": [
    "## Partitioning Methods"
   ]
  },
  {
   "cell_type": "markdown",
   "metadata": {},
   "source": [
    "As you have seen above, Quick Sort performs differently based on the different types of inputs, and that the performance of Quick Sort can vary. The main downfall that may come with Quick Sort is picking a bad partition such that the left and right lists are highly unequal. The common way to pick this partition is with randomness, but it is not the only way to choose a partition.\n",
    "\n",
    "Run the below cell and then pick any combination of partition methods and input sizes to test runtime performances with regards to partition method and input type!"
   ]
  },
  {
   "cell_type": "code",
   "execution_count": 13,
   "metadata": {},
   "outputs": [
    {
     "name": "stdout",
     "output_type": "stream",
     "text": [
      "Pick 2 Methods for Partitioning:\n"
     ]
    },
    {
     "data": {
      "application/vnd.jupyter.widget-view+json": {
       "model_id": "de84e317e526443099474f103e255342",
       "version_major": 2,
       "version_minor": 0
      },
      "text/plain": [
       "Dropdown(description='Method 1:', index=1, options=('Last Element', 'Random', 'Median of Three'), value='Rando…"
      ]
     },
     "metadata": {},
     "output_type": "display_data"
    },
    {
     "data": {
      "application/vnd.jupyter.widget-view+json": {
       "model_id": "c35837a760484ddea12ab0b4c17b2a48",
       "version_major": 2,
       "version_minor": 0
      },
      "text/plain": [
       "Dropdown(description='Method 2:', index=1, options=('Last Element', 'Random', 'Median of Three'), value='Rando…"
      ]
     },
     "metadata": {},
     "output_type": "display_data"
    },
    {
     "name": "stdout",
     "output_type": "stream",
     "text": [
      "Pick an Input Type:\n"
     ]
    },
    {
     "data": {
      "application/vnd.jupyter.widget-view+json": {
       "model_id": "112fa39a981e4ca9b7551d2a8f1e5788",
       "version_major": 2,
       "version_minor": 0
      },
      "text/plain": [
       "Dropdown(description='Input Type:', options=('Random', 'Sorted', 'First Half Sorted', 'Partially Sorted'), val…"
      ]
     },
     "metadata": {},
     "output_type": "display_data"
    },
    {
     "name": "stdout",
     "output_type": "stream",
     "text": [
      "And then Run the Next Cell\n"
     ]
    }
   ],
   "source": [
    "FirstMethod = widgets.Dropdown(\n",
    "    options=['Last Element', 'Random', \"Median of Three\"],\n",
    "    value='Random',\n",
    "    description='Method 1:',\n",
    ")\n",
    "SecondMethod = widgets.Dropdown(\n",
    "    options=['Last Element', 'Random', \"Median of Three\"],\n",
    "    value='Random',\n",
    "    description='Method 2:',\n",
    ")\n",
    "Input_type = widgets.Dropdown(\n",
    "    options=['Random', 'Sorted','First Half Sorted', \"Partially Sorted\"],\n",
    "    value='Random',\n",
    "    description='Input Type:',\n",
    ")\n",
    "\n",
    "print(\"Pick 2 Methods for Partitioning:\")\n",
    "display(FirstMethod)\n",
    "display(SecondMethod)\n",
    "print(\"Pick an Input Type:\")\n",
    "display(Input_type)\n",
    "print(\"And then Run the Next Cell\")"
   ]
  },
  {
   "cell_type": "code",
   "execution_count": 13,
   "metadata": {},
   "outputs": [
    {
     "name": "stdout",
     "output_type": "stream",
     "text": [
      "Mean of Random Method:  0.0004501101970672607\n",
      "Mean of Random Method:  0.0004313366413116455\n"
     ]
    },
    {
     "data": {
      "image/png": "[encoded data removed]",
      "text/plain": [
       "<Figure size 432x288 with 1 Axes>"
      ]
     },
     "metadata": {
      "needs_background": "light"
     },
     "output_type": "display_data"
    },
    {
     "data": {
      "text/plain": [
       "<Figure size 576x432 with 0 Axes>"
      ]
     },
     "metadata": {},
     "output_type": "display_data"
    }
   ],
   "source": [
    "ax, firstMean, secondMean = DisplayResults(FirstMethod.value, SecondMethod.value, Input_type.value)\n",
    "print(\"Mean of \" + FirstMethod.value +\" Method: \", firstMean)\n",
    "print(\"Mean of \" + SecondMethod.value + \" Method: \", secondMean)"
   ]
  }
 ],
 "metadata": {
  "kernelspec": {
   "display_name": "Python 3",
   "language": "python",
   "name": "python3"
  },
  "language_info": {
   "codemirror_mode": {
    "name": "ipython",
    "version": 3
   },
   "file_extension": ".py",
   "mimetype": "text/x-python",
   "name": "python",
   "nbconvert_exporter": "python",
   "pygments_lexer": "ipython3",
   "version": "3.6.8"
  }
 },
 "nbformat": 4,
 "nbformat_minor": 2
}
