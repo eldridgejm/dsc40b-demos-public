{
 "cells": [
  {
   "cell_type": "markdown",
   "metadata": {},
   "source": [
    "# DSC 40B: Merge Sort\n",
    "\n",
    "### By: Daniel Lee, Udaikaran Singh, and Justin Eldridge\n",
    "\n",
    "This is the first of several \"demo\" notebooks that will be released throughout the quarter. These notebooks are supplementary -- the only things you will \"need\" to know for the exams will be covered in lecture, homework, discussion, and the course notes. But any \"Exercises\" which appear below can be thought of as practice problems, and it is recommended that you try them."
   ]
  },
  {
   "cell_type": "code",
   "execution_count": null,
   "metadata": {},
   "outputs": [],
   "source": [
    "# miscellaneous imports\n",
    "import numpy as np\n",
    "import time\n",
    "import matplotlib.pyplot as plt\n",
    "from SortHelper import CallOrder\n",
    "\n",
    "plt.style.use('ggplot')"
   ]
  },
  {
   "cell_type": "markdown",
   "metadata": {},
   "source": [
    "___\n",
    "\n",
    "## Merge Sort\n",
    "\n",
    "Below is the code for merge sort as it appears in the course notes (and how it appeared in lecture).\n",
    "___"
   ]
  },
  {
   "cell_type": "code",
   "execution_count": null,
   "metadata": {},
   "outputs": [],
   "source": [
    "import math\n",
    "\n",
    "def mergesort(arr):\n",
    "    \"\"\"Sorts `arr` by modifying it rather than returning new list.\n",
    "    \n",
    "    `arr` should be a Python list.\n",
    "    \"\"\"\n",
    "    if len(arr) > 1: \n",
    "        # split the array into halves\n",
    "        mid = math.floor(len(arr) / 2)\n",
    "        left = arr[:mid]\n",
    "        right = arr[mid:]\n",
    "        \n",
    "        # sort the left half  \n",
    "        mergesort(left)\n",
    "        # sort the right half\n",
    "        mergesort(right)\n",
    "        \n",
    "        # merge the sorted halves, storing result in arr\n",
    "        merge(left, right, arr)\n",
    "        \n",
    "def merge(left, right, arr):\n",
    "    \"\"\"Merge two sorted lists, left and right, into arr.\"\"\"\n",
    "    left.append(float('inf'))\n",
    "    right.append(float('inf'))\n",
    "        \n",
    "    for ix in range(len(arr)):\n",
    "        if left[0] < right[0]:\n",
    "            arr[ix] = left.pop(0)\n",
    "        else:\n",
    "            arr[ix] = right.pop(0)"
   ]
  },
  {
   "cell_type": "markdown",
   "metadata": {},
   "source": [
    "___\n",
    "\n",
    "## Demo: Runtime Analysis\n",
    "\n",
    "___"
   ]
  },
  {
   "cell_type": "markdown",
   "metadata": {},
   "source": [
    "One of the main advantages of merge sort is that it is fast: it has time complexity $\\Theta(n \\log n)$, where $n$ is the size of the input.\n",
    "\n",
    "We derived this result in class by solving a recurrence, but let's try to verify it empirically. To do so, we will run `mergesort` on inputs of varying size, time how long each call takes, and plot the results.\n",
    "\n",
    "First, we make a list of all of the input sizes that will be tried. The below makes an array in which each entry is twice the previous."
   ]
  },
  {
   "cell_type": "code",
   "execution_count": null,
   "metadata": {},
   "outputs": [],
   "source": [
    "sizes = 2 ** np.arange(1, 15)\n",
    "sizes"
   ]
  },
  {
   "cell_type": "markdown",
   "metadata": {},
   "source": [
    "Now we loop through `sizes`, creating a random array of each size and timing `mergesort` when it is called on that array. We store the times in `mergesort_times`."
   ]
  },
  {
   "cell_type": "code",
   "execution_count": null,
   "metadata": {},
   "outputs": [],
   "source": [
    "mergesort_times = []\n",
    "for size in sizes:\n",
    "    lst = list(np.random.randint(100, size=size))\n",
    "    \n",
    "    start_time = time.time()\n",
    "    mergesort(lst)\n",
    "    end_time = time.time()\n",
    "    \n",
    "    duration = end_time - start_time\n",
    "    mergesort_times.append(duration)"
   ]
  },
  {
   "cell_type": "markdown",
   "metadata": {},
   "source": [
    "Let's plot `mergesort_times` against `sizes`:"
   ]
  },
  {
   "cell_type": "code",
   "execution_count": null,
   "metadata": {},
   "outputs": [],
   "source": [
    "plt.plot(sizes, mergesort_times, marker='x')\n",
    "plt.xlabel('Size')\n",
    "plt.ylabel('Time (s)')"
   ]
  },
  {
   "cell_type": "markdown",
   "metadata": {},
   "source": [
    "If you re-run the above cell over and over again, you'll notice that the plot will change a little bit every time. This is because the time it takes to run `mergesort` on any given input will fluctuate depending on what your computer is doing in the background. Interestingly, most times there will be a little \"hump\" around $n = 2500$: why do you think that is?\n",
    "\n",
    "Now, we know that merge sort has $\\Theta(n \\log n)$ time complexity, so the above function should look like $n \\log n$ when $n$ is large. Does it? It's hard to see... Let's try to fit the best line of the form $a n \\log n + b$ to our timings. We can do so using `np.polyfit`"
   ]
  },
  {
   "cell_type": "code",
   "execution_count": null,
   "metadata": {},
   "outputs": [],
   "source": [
    "a, b = np.polyfit(sizes * np.log(sizes), mergesort_times, deg=1)\n",
    "plt.plot(\n",
    "    sizes, \n",
    "    a * sizes * np.log(sizes) + b, \n",
    "    color='C1', \n",
    "    linestyle='--',\n",
    "    label='Best Fit'\n",
    ")\n",
    "plt.plot(sizes, mergesort_times, label='Empirical')\n",
    "\n",
    "plt.title('Fit of $a n \\log n + b$')\n",
    "plt.legend()"
   ]
  },
  {
   "cell_type": "markdown",
   "metadata": {},
   "source": [
    "It looks like a good fit. But let's try to fit a quadratic function, $an^2 + bn + c$, just to see what we get:"
   ]
  },
  {
   "cell_type": "code",
   "execution_count": null,
   "metadata": {},
   "outputs": [],
   "source": [
    "a, b, c = np.polyfit(sizes, mergesort_times, deg=2)\n",
    "plt.plot(\n",
    "    sizes, \n",
    "    a * sizes**2 + b * sizes + c, \n",
    "    color='C1', \n",
    "    linestyle='--',\n",
    "    label='Best Fit'\n",
    ")\n",
    "plt.plot(sizes, mergesort_times, label='Empirical')\n",
    "\n",
    "plt.title('Fit of $a n^2 + b n + c$')\n",
    "plt.legend()"
   ]
  },
  {
   "cell_type": "markdown",
   "metadata": {},
   "source": [
    "It is probably an even better fit (if it isn't, you might have been unlucky with your timings -- run the last few cells again)! So does merge sort actually take quadratic time?\n",
    "\n",
    "No! Take a look at the coefficients of the quadratic fit:"
   ]
  },
  {
   "cell_type": "code",
   "execution_count": null,
   "metadata": {},
   "outputs": [],
   "source": [
    "a"
   ]
  },
  {
   "cell_type": "code",
   "execution_count": null,
   "metadata": {},
   "outputs": [],
   "source": [
    "b"
   ]
  },
  {
   "cell_type": "code",
   "execution_count": null,
   "metadata": {},
   "outputs": [],
   "source": [
    "c"
   ]
  },
  {
   "cell_type": "markdown",
   "metadata": {},
   "source": [
    "$a$ should be very close to zero. Since $a$ is the coefficient on $n^2$, this tells us that the rate of growth of the timings is mostly linear.\n",
    "\n",
    "But even saying that is misleading. What this exercise has really demonstrated is one of the pitfalls of assessing efficiency with empirical timings instead of analyzing the code of the algorithm itself. Empirical timings will have noise, and it turns out to be really difficult to distinguish a noisy function that grows like $\\Theta(n \\log n)$ from a noisy function that grows like $\\Theta(n)$."
   ]
  },
  {
   "cell_type": "markdown",
   "metadata": {},
   "source": [
    "Now let's try to time selection sort. Below is the same code we saw in the course notes and in lecture:"
   ]
  },
  {
   "cell_type": "code",
   "execution_count": null,
   "metadata": {},
   "outputs": [],
   "source": [
    "def selection_sort(arr):\n",
    "    \"\"\"In-place selection sort.\"\"\"\n",
    "    n = len(arr)\n",
    "    if n <= 1:\n",
    "        return\n",
    "    for barrier_ix in range(n-1):\n",
    "        min_ix = find_minimum(arr, start=barrier_ix)\n",
    "        arr[barrier_ix], arr[min_ix] = arr[min_ix], arr[barrier_ix] # swap\n",
    "        \n",
    "def find_minimum(arr, start):\n",
    "    \"\"\"Finds index of minimum. Assumes arr is non-empty.\"\"\"\n",
    "    n = len(arr)\n",
    "    min_value = arr[start]\n",
    "    min_ix = start\n",
    "    for i in range(start + 1, n):\n",
    "        if arr[i] < min_value:\n",
    "            min_value = arr[i]\n",
    "            min_ix = i\n",
    "    return min_ix"
   ]
  },
  {
   "cell_type": "markdown",
   "metadata": {},
   "source": [
    "We'll use the same `sizes` as above, and time `selection_sort` on each. The below code might take a second or two to run, because `selection_sort` is asymptotically slower than `mergesort`:"
   ]
  },
  {
   "cell_type": "code",
   "execution_count": null,
   "metadata": {},
   "outputs": [],
   "source": [
    "selection_sort_times = []\n",
    "\n",
    "for size in sizes:\n",
    "    lst = list(np.random.randint(100, size=size))\n",
    "    \n",
    "    start_time = time.time()\n",
    "    selection_sort(lst)\n",
    "    end_time = time.time()\n",
    "    \n",
    "    duration = end_time - start_time\n",
    "    selection_sort_times.append(duration)"
   ]
  },
  {
   "cell_type": "code",
   "execution_count": null,
   "metadata": {},
   "outputs": [],
   "source": [
    "plt.plot(sizes, selection_sort_times, marker='x')\n",
    "plt.xlabel('Size')\n",
    "plt.ylabel('Time (s)')"
   ]
  },
  {
   "cell_type": "markdown",
   "metadata": {},
   "source": [
    "Remember that selection sort takes $\\Theta(n^2)$ time, and the plot above seems to grow quadratically. But we can't be sure from the plot alone that the time complexity isn't, say, $n^2 \\log n$ or $n^{1.9}$, since those functions would have very similar plots."
   ]
  },
  {
   "cell_type": "markdown",
   "metadata": {},
   "source": [
    "Lastly, let's plot the timings of merge sort and selection sort together to compare them:"
   ]
  },
  {
   "cell_type": "code",
   "execution_count": null,
   "metadata": {},
   "outputs": [],
   "source": [
    "plt.plot(sizes, selection_sort_times, label='Selection Sort', marker='x')\n",
    "plt.plot(sizes, mergesort_times, label='Merge Sort', marker='x')\n",
    "plt.xlabel('Size')\n",
    "plt.ylabel('Time (s)')\n",
    "plt.legend()"
   ]
  },
  {
   "cell_type": "markdown",
   "metadata": {},
   "source": [
    "Merge sort looks almost flat -- that is because $n \\log n$ grows so much slower than $n^2$. What if we \"zoom in\" to the timings for arrays of smaller size, where the algorithms are comparable?"
   ]
  },
  {
   "cell_type": "code",
   "execution_count": null,
   "metadata": {},
   "outputs": [],
   "source": [
    "# zoom into the first k timings\n",
    "k = 6\n",
    "\n",
    "plt.plot(sizes[:k], selection_sort_times[:k], label='Selection Sort', marker='x')\n",
    "plt.plot(sizes[:k], mergesort_times[:k], label='Merge Sort', marker='x')\n",
    "plt.xlabel('Size')\n",
    "plt.ylabel('Time (s)')\n",
    "plt.legend()"
   ]
  },
  {
   "cell_type": "markdown",
   "metadata": {},
   "source": [
    "What you should see is that selection sort is actually faster than merge sort when the array is small! Remember that asymptotic time complexity is just that -- asymptotic. Merge sort will be the faster algorithm if the input is large enough. But apparently for small enough inputs, merge sort has enough overhead that selection sort wins. If you change $k$ in the cell above by making it larger, you'll eventually find the \"crossing point\" where `mergesort` is the faster function.\n",
    "\n",
    "In fact, \"real life\" implementations of merge sort take advantage of this observation. Once the input becomes small enough, merge sort doesn't make a recursive call, and instead uses another sorting algorithm (usually *insertion sort*) to sort each half. The time complexity doesn't change, but the algorithm is faster by a constant factor."
   ]
  },
  {
   "cell_type": "markdown",
   "metadata": {},
   "source": [
    "___\n",
    "\n",
    "# Exercise: Call Order\n",
    "\n",
    "___"
   ]
  },
  {
   "cell_type": "markdown",
   "metadata": {},
   "source": [
    "## Animation\n",
    "![animation2](https://i.imgur.com/HU2tfzo.gif)\n",
    "\n",
    "\n",
    "Animations like these are often used to show how merge sort works, but they also tend to hide what is happening inside the computer, and when. The animation might lead you to believe that the left and right halves of the array are sorted simultaneously, but this isn't the case. In fact, the left half of the array is sorted before we even start to sort the right half!\n",
    "\n",
    "As an exercise to demonstrate this, look at the code for `mergesort`, especially where the recursive calls are. Now try to guess the order of the recursive calls made when sorting the array: [1,3,2,6,5,1,7,2]. Run the cell below to check your work.\n",
    "\n",
    "Hint: the argument of the first call is [1, 3, 2, 6, 5, 1, 7, 2]. The argument of the second call is [1, 3, 2, 6]."
   ]
  },
  {
   "cell_type": "code",
   "execution_count": null,
   "metadata": {},
   "outputs": [],
   "source": [
    "x = [1,3,2,6,5,1,7,2]\n",
    "CallOrder(x)"
   ]
  },
  {
   "cell_type": "markdown",
   "metadata": {},
   "source": [
    "Now replace the ... below with your own favorite list of numbers. Before running the code, attempt to guess the call order. Try a list of length 5 and a list of length 9 to make sure you have the right idea. "
   ]
  },
  {
   "cell_type": "code",
   "execution_count": null,
   "metadata": {},
   "outputs": [],
   "source": [
    "CallOrder(...)"
   ]
  },
  {
   "cell_type": "markdown",
   "metadata": {},
   "source": [
    "___\n",
    "\n",
    "## Exercise: How Many Times Printed?\n",
    "\n",
    "___"
   ]
  },
  {
   "cell_type": "markdown",
   "metadata": {},
   "source": [
    "In this exercise, you should:\n",
    "\n",
    " 1. Remove a comment on one of the three `print` statements\n",
    " 2. Guess how many times that statement will be printed when `arr` has 7 elements.\n",
    " 3. Run the code below to check your answer\n",
    "\n",
    "You should try all 3 possible positions.\n",
    "\n",
    "\n",
    "Hint: A question like this may show up on future exams."
   ]
  },
  {
   "cell_type": "code",
   "execution_count": null,
   "metadata": {},
   "outputs": [],
   "source": [
    "import math\n",
    "\n",
    "def noisy_mergesort(arr):\n",
    "    \"\"\"Sorts `arr` by modifying it rather than returning new list.\n",
    "    \n",
    "    `arr` should be a Python list.\n",
    "    \"\"\"\n",
    "    print('Position 1')\n",
    "    if len(arr) > 1: \n",
    "        # split the array into halves\n",
    "        mid = math.floor(len(arr) / 2)\n",
    "        left = arr[:mid]\n",
    "        right = arr[mid:]\n",
    "        \n",
    "        # print('Position 2')\n",
    "        # sort the left half  \n",
    "        noisy_mergesort(left)\n",
    "        # sort the right half\n",
    "        noisy_mergesort(right)\n",
    "        \n",
    "        # merge the sorted halves, storing result in arr\n",
    "        noisy_merge(left, right, arr)\n",
    "        \n",
    "def noisy_merge(left, right, arr):\n",
    "        left.append(float('inf'))\n",
    "        right.append(float('inf'))\n",
    "        \n",
    "        for ix in range(len(arr)):\n",
    "            # print('Position 3')\n",
    "            if left[0] < right[0]:\n",
    "                arr[ix] = left.pop(0)\n",
    "            else:\n",
    "                arr[ix] = right.pop(0)"
   ]
  },
  {
   "cell_type": "code",
   "execution_count": null,
   "metadata": {},
   "outputs": [],
   "source": [
    "noisy_mergesort([1,3,2,6,5,1,7])"
   ]
  },
  {
   "cell_type": "markdown",
   "metadata": {},
   "source": [
    "Now try to come up with a general formula that predicts how many times \"Position 1\" is printed when run on an input of size $n$ (you can assume $n$ is a power of 2 to make things nice). Do the same for \"Position 2\" and \"Position 3\". Check your work by running `noisy_mergesort` with the corresponding lines uncommented and with inputs of various sizes, and verify that your formula made the right predictions."
   ]
  }
 ],
 "metadata": {
  "kernelspec": {
   "display_name": "Python 3",
   "language": "python",
   "name": "python3"
  },
  "language_info": {
   "codemirror_mode": {
    "name": "ipython",
    "version": 3
   },
   "file_extension": ".py",
   "mimetype": "text/x-python",
   "name": "python",
   "nbconvert_exporter": "python",
   "pygments_lexer": "ipython3",
   "version": "3.7.3"
  }
 },
 "nbformat": 4,
 "nbformat_minor": 2
}
