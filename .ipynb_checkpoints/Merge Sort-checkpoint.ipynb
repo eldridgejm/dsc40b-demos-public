{
 "cells": [
  {
   "cell_type": "markdown",
   "metadata": {},
   "source": [
    "# DSC 40B: Merge Sort\n",
    "\n",
    "### By: Daniel Lee & Udaikaran Singh"
   ]
  },
  {
   "cell_type": "code",
   "execution_count": 2,
   "metadata": {},
   "outputs": [],
   "source": [
    "#imports\n",
    "import ipywidgets as widgets\n",
    "import numpy as np\n",
    "import time\n",
    "import matplotlib.pyplot as plt\n",
    "from SortHelper import CallOrder"
   ]
  },
  {
   "cell_type": "markdown",
   "metadata": {},
   "source": [
    "___\n",
    "\n",
    "## Merge Sort Code\n",
    "___"
   ]
  },
  {
   "cell_type": "markdown",
   "metadata": {},
   "source": [
    "### Pythonic Version"
   ]
  },
  {
   "cell_type": "code",
   "execution_count": 9,
   "metadata": {},
   "outputs": [],
   "source": [
    "def mergeSort(arr):\n",
    "    if len(arr) >1: \n",
    "        mid = len(arr)//2 #Finding the mid of the array \n",
    "        L = arr[:mid] # Dividing the array elements  \n",
    "        R = arr[mid:] # into 2 halves \n",
    "  \n",
    "        mergeSort(L) # Sorting the first half \n",
    "        mergeSort(R) # Sorting the second half \n",
    "  \n",
    "        i = j = k = 0\n",
    "          \n",
    "        # Copy data to temp arrays L[] and R[] \n",
    "        while i < len(L) and j < len(R): \n",
    "            if L[i] < R[j]: \n",
    "                arr[k] = L[i] \n",
    "                i+=1\n",
    "            else: \n",
    "                arr[k] = R[j] \n",
    "                j+=1\n",
    "            k+=1\n",
    "          \n",
    "        # Checking if any element was left \n",
    "        while i < len(L): \n",
    "            arr[k] = L[i] \n",
    "            i+=1\n",
    "            k+=1\n",
    "          \n",
    "        while j < len(R): \n",
    "            arr[k] = R[j] \n",
    "            j+=1\n",
    "            k+=1"
   ]
  },
  {
   "cell_type": "markdown",
   "metadata": {},
   "source": [
    "___\n",
    "\n",
    "# Call Order\n",
    "\n",
    "___"
   ]
  },
  {
   "cell_type": "markdown",
   "metadata": {},
   "source": [
    "## Animation\n",
    "![animation2](https://i.imgur.com/HU2tfzo.gif)\n",
    "\n",
    "\n",
    "Animations Like these tend to be great at demonstrating how Merge Sort work. However, they also tend to hide what is happening within the code. In reality, Merge Sort does not break the input array into halves in each recursion. Rather, the recursion goes down 1 portion of the input array and then builds back up.\n",
    "\n",
    "An exercise to demonstrate this, look at the code above, especially where the recursive calls are. Now consider what will be the recursive calls if you trying to sort the array: [1,3,2,6,5,1,7,2]. Run the cell below to check your work."
   ]
  },
  {
   "cell_type": "code",
   "execution_count": 5,
   "metadata": {},
   "outputs": [
    {
     "name": "stdout",
     "output_type": "stream",
     "text": [
      "1:  [1, 3, 2, 6, 5, 1, 7, 2]\n",
      "2:  [1, 3, 2, 6]\n",
      "3:  [1, 3]\n",
      "4:  [1]\n",
      "5:  [3]\n",
      "6:  [2, 6]\n",
      "7:  [2]\n",
      "8:  [6]\n",
      "9:  [5, 1, 7, 2]\n",
      "10:  [5, 1]\n",
      "11:  [5]\n",
      "12:  [1]\n",
      "13:  [7, 2]\n",
      "14:  [7]\n",
      "15:  [2]\n"
     ]
    }
   ],
   "source": [
    "x = [1,3,2,6,5,1,7,2]\n",
    "CallOrder(x)"
   ]
  },
  {
   "cell_type": "markdown",
   "metadata": {},
   "source": [
    "Fill in the variable x with your list of numbers and see what the call order is. \n",
    "\n",
    "Hint: Try out a list of length 5 and/or 9."
   ]
  },
  {
   "cell_type": "code",
   "execution_count": null,
   "metadata": {},
   "outputs": [],
   "source": [
    "#x = \n",
    "CallOrder(x)"
   ]
  },
  {
   "cell_type": "markdown",
   "metadata": {},
   "source": [
    "___\n",
    "\n",
    "## How Many Times Printed?\n",
    "\n",
    "___"
   ]
  },
  {
   "cell_type": "markdown",
   "metadata": {},
   "source": [
    "In this exercise, you should:\n",
    "    1. Remove a comment on 1 of the 5 print statements\n",
    "    2. Consider how many times that statement will be printed\n",
    "    3. Run the Code Below to check your answer\n",
    "\n",
    "You should try all 5 possible positions.\n",
    "\n",
    "*Note: A question like this may show up on future exams*"
   ]
  },
  {
   "cell_type": "code",
   "execution_count": 27,
   "metadata": {},
   "outputs": [],
   "source": [
    "def mergeSort(arr):\n",
    "    #print(\"Position 1\")\n",
    "    if len(arr) >1: \n",
    "        mid = len(arr)//2 \n",
    "        L = arr[:mid] \n",
    "        R = arr[mid:] \n",
    "        \n",
    "        #print(\"Position 2\")\n",
    "        mergeSort(L)\n",
    "        #print(\"Position 3\")\n",
    "        mergeSort(R) \n",
    "        #print(\"Position 4\")\n",
    "  \n",
    "        i = j = k = 0\n",
    "          \n",
    "        # Copy data to temp arrays L[] and R[] \n",
    "        while i < len(L) and j < len(R): \n",
    "            #print(\"Position 5\")\n",
    "            if L[i] < R[j]: \n",
    "                arr[k] = L[i] \n",
    "                i+=1\n",
    "            else: \n",
    "                arr[k] = R[j] \n",
    "                j+=1\n",
    "            k+=1\n",
    "          \n",
    "        # Checking if any element was left \n",
    "        while i < len(L): \n",
    "            arr[k] = L[i] \n",
    "            i+=1\n",
    "            k+=1\n",
    "          \n",
    "        while j < len(R): \n",
    "            arr[k] = R[j] \n",
    "            j+=1\n",
    "            k+=1"
   ]
  },
  {
   "cell_type": "code",
   "execution_count": null,
   "metadata": {},
   "outputs": [],
   "source": [
    "x = [1,3,2,6,5,1,7,2]\n",
    "mergeSort(x)"
   ]
  },
  {
   "cell_type": "markdown",
   "metadata": {},
   "source": [
    "___\n",
    "\n",
    "## Runtime Analysis\n",
    "\n",
    "___"
   ]
  },
  {
   "cell_type": "markdown",
   "metadata": {},
   "source": [
    "One of the main advantages of Merge Sort is that it has the same worst and best case runtime of θ(nlog(n)).\n",
    "\n",
    "Run the below code & apply a scalar value to n*nlog(n) function to fit the runtime.\n",
    "\n",
    "*Hint: on my computer, a good scalar was 0.000001*"
   ]
  },
  {
   "cell_type": "code",
   "execution_count": 15,
   "metadata": {},
   "outputs": [],
   "source": [
    "n = range(10, 1500, 10)"
   ]
  },
  {
   "cell_type": "code",
   "execution_count": 16,
   "metadata": {},
   "outputs": [],
   "source": [
    "results = []\n",
    "for i in n:\n",
    "    lst = np.random.randint(100, size = i)\n",
    "    start = time.time()\n",
    "    mergeSort(lst)\n",
    "    end = time.time()\n",
    "    delta = end - start\n",
    "    results.append(delta)"
   ]
  },
  {
   "cell_type": "code",
   "execution_count": 17,
   "metadata": {},
   "outputs": [
    {
     "data": {
      "application/vnd.jupyter.widget-view+json": {
       "model_id": "536d81fbb5644104a6bb1f96f9c869af",
       "version_major": 2,
       "version_minor": 0
      },
      "text/plain": [
       "FloatText(value=0.0)"
      ]
     },
     "metadata": {},
     "output_type": "display_data"
    }
   ],
   "source": [
    "scalar = widgets.FloatText()\n",
    "#print(\"Pick a scalar value to multiply with nlogn?\")\n",
    "display(scalar)"
   ]
  },
  {
   "cell_type": "code",
   "execution_count": 31,
   "metadata": {},
   "outputs": [
    {
     "data": {
      "text/plain": [
       "<matplotlib.legend.Legend at 0x11af30f28>"
      ]
     },
     "execution_count": 31,
     "metadata": {},
     "output_type": "execute_result"
    },
    {
     "data": {
      "image/png": "[encoded data removed]",
      "text/plain": [
       "<Figure size 432x288 with 1 Axes>"
      ]
     },
     "metadata": {},
     "output_type": "display_data"
    }
   ],
   "source": [
    "plt.plot(results)\n",
    "nlogn = n * np.log(n) * scalar.value\n",
    "ax = plt.plot(nlogn)\n",
    "ax2 = plt.plot(nlogn * 1.3)\n",
    "ax3 = plt.plot(nlogn * 0.75)\n",
    "plt.legend(handles=(ax[0], ax2[0], ax3[0]),labels = (\"fitted function\", \"upper bound\", \"lower bound\"))"
   ]
  },
  {
   "cell_type": "markdown",
   "metadata": {},
   "source": [
    "## Assessment Questions"
   ]
  },
  {
   "cell_type": "code",
   "execution_count": null,
   "metadata": {},
   "outputs": [],
   "source": []
  }
 ],
 "metadata": {
  "kernelspec": {
   "display_name": "Python 3",
   "language": "python",
   "name": "python3"
  },
  "language_info": {
   "codemirror_mode": {
    "name": "ipython",
    "version": 3
   },
   "file_extension": ".py",
   "mimetype": "text/x-python",
   "name": "python",
   "nbconvert_exporter": "python",
   "pygments_lexer": "ipython3",
   "version": "3.6.5"
  }
 },
 "nbformat": 4,
 "nbformat_minor": 2
}
